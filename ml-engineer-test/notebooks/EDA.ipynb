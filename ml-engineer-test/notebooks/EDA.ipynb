{
  "nbformat": 4,
  "nbformat_minor": 0,
  "metadata": {
    "colab": {
      "name": "EDA.ipynb",
      "provenance": [],
      "collapsed_sections": []
    },
    "kernelspec": {
      "name": "python3",
      "display_name": "Python 3"
    },
    "language_info": {
      "name": "python"
    }
  },
  "cells": [
    {
      "cell_type": "code",
      "metadata": {
        "id": "4XDLI3lWqnwD"
      },
      "source": [
        "import pandas as pd\n",
        "from google.colab import drive\n",
        "drive.mount('/content/gdrive')\n",
        "import io\n",
        "import numpy as np\n",
        "import os\n",
        "import sys\n",
        "import json\n",
        "from datetime import date\n",
        "from datetime import datetime\n",
        "try:\n",
        "   import luigi\n",
        "   import dask.dataframe as dd\n",
        "   from distributed import Client\n",
        "except: \n",
        "  !{sys.executable} -m pip install luigi\n",
        "  !pip install \"dask[dataframe]\"\n",
        "  !{sys.executable} -m pip install quickda\n",
        "  import dask.dataframe as dd\n",
        "  from quickda.explore_data import *\n",
        "  from quickda.clean_data import *\n",
        "  from quickda.explore_numeric import *\n",
        "  from quickda.explore_categoric import *\n",
        "  from quickda.explore_numeric_categoric import *\n"
      ],
      "execution_count": null,
      "outputs": []
    },
    {
      "cell_type": "code",
      "metadata": {
        "colab": {
          "base_uri": "https://localhost:8080/",
          "height": 129
        },
        "id": "rf5LqfAsqlZE",
        "outputId": "83935e85-2a1c-437c-ae7c-ccf6404936d0"
      },
      "source": [
        "class Process_Ventas():\n",
        "\n",
        "  def __init__(self,table_name,data_lake_source):\n",
        "    self.table_name = table_name\n",
        "    self.data_lake_source = data_lake_source\n",
        "\n",
        "  def updating_sales_table(self):\n",
        "    pass\n",
        "\n",
        " \n",
        "   \n",
        "\n",
        "\n",
        "class Process_Mercado():\n",
        "\n",
        "  def __init__(self,table_name, id_sem):\n",
        "    self.table_name = table_name\n",
        "    self.id_sem = id_sem\n",
        "\n",
        "  def updating_catalog_table(self):\n",
        "    pass\n",
        "  def updating_market_sales_table(self):\n",
        "    pass\n",
        "\n",
        "  def parsing_dates(self):\n",
        "    'metodo para remplazar el mes por numero'\n",
        "    pass\n",
        "    \n",
        "    \n",
        "\n",
        "  def building_market_sales_table(self):\n",
        "    \"\"\"\n",
        "    aqui se generarian la tabla de mercado con el join en sus catalogos\n",
        "    \"\"\"\n",
        "\n",
        "    prod_path = '/content/gdrive/My Drive/DATA_LAKE_OPI/TEINVENTO/'+self.id_sem+'/product_dim'+'/'\n",
        "    fact_path = '/content/gdrive/My Drive/DATA_LAKE_OPI/TEINVENTO/'+self.id_sem+'/fact_table'+'/'\n",
        "\n",
        "    files_cat_prod = [prod_path+'part.0.parquet', prod_path+'part.1.parquet',\n",
        "                      prod_path+'part.2.parquet', prod_path+'part.3.parquet',\n",
        "                      prod_path+'part.4.parquet', prod_path+'part.5.parquet']\n",
        "\n",
        "    files_sales_mkt = [prod_path+'part.0.parquet', prod_path+'part.1.parquet',\n",
        "                      prod_path+'part.2.parquet', prod_path+'part.3.parquet',\n",
        "                      prod_path+'part.4.parquet']\n",
        "\n",
        "    sales_mkt = dd.read_parquet(files_sales_mkt)\n",
        "    cat_prod =  dd.read_parquet(files_cat_prod)\n",
        "\"\"\"\n",
        "AQUI SE IBA A CREAR LA CLASE CON METODOS DE CALCULO PARA UN BUEN EDA\n",
        "\"\"\"\n",
        "class EDA():\n",
        "  def estatistic_descript(self):\n",
        "    pass\n",
        "  def plots(self):\n",
        "    pass\n",
        "  def outliers(self):\n",
        "    pass\n",
        "  def pca(self):\n",
        "    pass\n",
        "  def mutual_information(self):\n",
        "    pass\n",
        "   \n",
        "\n",
        "    #cat_prod = dd.read_parquet('/content/gdrive/My Drive/DATA_LAKE_OPI/TEINVENTO/'+self.id_sem+'/prod_dim'+'/*.parquet')\n",
        "\n",
        "    #sales_mkt = dd.read_parquet('/content/gdrive/My Drive/DATA_LAKE_OPI/TEINVENTO/'+self.id_sem+'/fact_table'+'/*.parquet')\n",
        "  \n",
        "  "
      ],
      "execution_count": 1,
      "outputs": [
        {
          "output_type": "error",
          "ename": "SyntaxError",
          "evalue": "ignored",
          "traceback": [
            "\u001b[0;36m  File \u001b[0;32m\"<ipython-input-1-c03260b50439>\"\u001b[0;36m, line \u001b[0;32m58\u001b[0m\n\u001b[0;31m    \u001b[0m\n\u001b[0m    ^\u001b[0m\n\u001b[0;31mSyntaxError\u001b[0m\u001b[0;31m:\u001b[0m EOF while scanning triple-quoted string literal\n"
          ]
        }
      ]
    },
    {
      "cell_type": "code",
      "metadata": {
        "id": "6CGVQj_Aqv5w"
      },
      "source": [
        ""
      ],
      "execution_count": null,
      "outputs": []
    }
  ]
}